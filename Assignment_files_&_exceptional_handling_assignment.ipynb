{
  "nbformat": 4,
  "nbformat_minor": 0,
  "metadata": {
    "colab": {
      "provenance": []
    },
    "kernelspec": {
      "name": "python3",
      "display_name": "Python 3"
    },
    "language_info": {
      "name": "python"
    }
  },
  "cells": [
    {
      "cell_type": "markdown",
      "source": [
        "# Files, exceptional handling, logging and memory management Questions"
      ],
      "metadata": {
        "id": "KqgmzMiOjK1w"
      }
    },
    {
      "cell_type": "markdown",
      "source": [
        "1. **What is the difference between interpreted and compiled languages?**  "
      ],
      "metadata": {
        "id": "bTh3WyhvjYdn"
      }
    },
    {
      "cell_type": "code",
      "execution_count": null,
      "metadata": {
        "id": "WUsafxCujKHB"
      },
      "outputs": [],
      "source": [
        "# Interpreted: Executes code line by line; slower but platform-independent (e.g., Python).\n",
        "# Compiled: Translates code to machine language before execution; faster but platform-dependent (e.g., C++)."
      ]
    },
    {
      "cell_type": "markdown",
      "source": [
        "2. **What is exception handling in Python?**  \n"
      ],
      "metadata": {
        "id": "P5qu4wPDlrGE"
      }
    },
    {
      "cell_type": "code",
      "source": [
        "# Mechanism to handle runtime errors using try, except, finally, and else blocks to prevent program crashes."
      ],
      "metadata": {
        "id": "TnoccshTjRTw"
      },
      "execution_count": null,
      "outputs": []
    },
    {
      "cell_type": "markdown",
      "source": [
        "3. **What is the purpose of the `finally` block in exception handling?**  "
      ],
      "metadata": {
        "id": "3lyA5zGhltss"
      }
    },
    {
      "cell_type": "code",
      "source": [
        "# Always executes, regardless of whether an exception occurred.\n",
        "# Used for cleanup actions like closing files or releasing resources."
      ],
      "metadata": {
        "id": "Ww-wNqEfjUpA"
      },
      "execution_count": null,
      "outputs": []
    },
    {
      "cell_type": "markdown",
      "source": [
        "4. **What is logging in Python?**  "
      ],
      "metadata": {
        "id": "-KNdtvvtlw2V"
      }
    },
    {
      "cell_type": "code",
      "source": [
        "# The logging module is used to track events during program execution, helping debug, monitor, and analyze applications."
      ],
      "metadata": {
        "id": "B5gwPADolzZl"
      },
      "execution_count": null,
      "outputs": []
    },
    {
      "cell_type": "markdown",
      "source": [
        "5. **What is the significance of the `__del__` method in Python?**  "
      ],
      "metadata": {
        "id": "H_UtJFdgl2ld"
      }
    },
    {
      "cell_type": "code",
      "source": [
        "# A destructor method automatically called when an object is deleted or garbage collected.\n",
        "# Used for resource cleanup."
      ],
      "metadata": {
        "id": "l9F-yH3_l2Z2"
      },
      "execution_count": null,
      "outputs": []
    },
    {
      "cell_type": "markdown",
      "source": [
        "6. **What is the difference between `import` and `from ... import` in Python?**  "
      ],
      "metadata": {
        "id": "4pT4rQDDl5sm"
      }
    },
    {
      "cell_type": "code",
      "source": [
        "# import: Imports the entire module (e.g., import math).\n",
        "# from ... import: Imports specific parts of a module (e.g., from math import sqrt)."
      ],
      "metadata": {
        "id": "RQ4XGjSMl5N2"
      },
      "execution_count": null,
      "outputs": []
    },
    {
      "cell_type": "markdown",
      "source": [
        "7. **How can you handle multiple exceptions in Python?**  "
      ],
      "metadata": {
        "id": "DC8DUg0sl8Fn"
      }
    },
    {
      "cell_type": "code",
      "source": [
        "#Use a tuple in except to handle multiple exceptions:\n",
        "try:\n",
        "    # code\n",
        "except (TypeError, ValueError) as e:\n",
        "    print(e)"
      ],
      "metadata": {
        "id": "2ntaEFLYnjaJ"
      },
      "execution_count": null,
      "outputs": []
    },
    {
      "cell_type": "markdown",
      "source": [
        "8. **What is the purpose of the `with` statement when handling files in Python?**  "
      ],
      "metadata": {
        "id": "oBZZ4rt5l-ae"
      }
    },
    {
      "cell_type": "code",
      "source": [
        "#Ensures a file is automatically closed after operations, even if an exception occurs.\n",
        "with open(\"file.txt\") as f:\n",
        "    data = f.read()"
      ],
      "metadata": {
        "id": "eH6AgxGCl2RF"
      },
      "execution_count": null,
      "outputs": []
    },
    {
      "cell_type": "markdown",
      "source": [
        "9. **What is the difference between multithreading and multiprocessing?**  "
      ],
      "metadata": {
        "id": "CEQfUSOYmCon"
      }
    },
    {
      "cell_type": "code",
      "source": [
        "# Multithreading: Multiple threads share the same memory; better for I/O-bound tasks.\n",
        "# Multiprocessing: Separate processes with independent memory; better for CPU-bound tasks."
      ],
      "metadata": {
        "id": "u8v2RcUpmCAn"
      },
      "execution_count": null,
      "outputs": []
    },
    {
      "cell_type": "markdown",
      "source": [
        "10. **What are the advantages of using logging in a program?**  "
      ],
      "metadata": {
        "id": "N0GkrW5XmFVP"
      }
    },
    {
      "cell_type": "code",
      "source": [
        "# Tracks program execution.\n",
        "# Helps debug errors.\n",
        "# Records information for auditing and monitoring."
      ],
      "metadata": {
        "id": "EY5rRg8FmIKX"
      },
      "execution_count": null,
      "outputs": []
    },
    {
      "cell_type": "markdown",
      "source": [
        "11. **What is memory management in Python?**  "
      ],
      "metadata": {
        "id": "3CZOLs3xmHkI"
      }
    },
    {
      "cell_type": "code",
      "source": [
        "# Python handles memory automatically using a garbage collection system and reference counting to allocate and free memory."
      ],
      "metadata": {
        "id": "jzNc4x9tmFBf"
      },
      "execution_count": null,
      "outputs": []
    },
    {
      "cell_type": "markdown",
      "source": [
        "12. **What are the basic steps involved in exception handling in Python?**  "
      ],
      "metadata": {
        "id": "EM0b_VmOmKy4"
      }
    },
    {
      "cell_type": "code",
      "source": [
        "# Enclose risky code in a try block.\n",
        "# Handle errors with except blocks.\n",
        "# Use finally for cleanup (optional).\n",
        "# Optionally, add an else block for no-exception scenarios."
      ],
      "metadata": {
        "id": "U_a8JtXnmB93"
      },
      "execution_count": null,
      "outputs": []
    },
    {
      "cell_type": "markdown",
      "source": [
        "13. **Why is memory management important in Python?**  "
      ],
      "metadata": {
        "id": "uLLkDzCmmPx4"
      }
    },
    {
      "cell_type": "code",
      "source": [
        "# Ensures efficient use of memory.\n",
        "# Avoids memory leaks.\n",
        "# Improves program performance."
      ],
      "metadata": {
        "id": "j3NSWx7omB5f"
      },
      "execution_count": null,
      "outputs": []
    },
    {
      "cell_type": "markdown",
      "source": [
        "14. **What is the role of `try` and `except` in exception handling?**  "
      ],
      "metadata": {
        "id": "8flLxCJFmR-x"
      }
    },
    {
      "cell_type": "code",
      "source": [
        "# try: Identifies risky code.\n",
        "# except: Catches and handles specific exceptions."
      ],
      "metadata": {
        "id": "E1vceotMmTwp"
      },
      "execution_count": null,
      "outputs": []
    },
    {
      "cell_type": "markdown",
      "source": [
        "15. **How does Python's garbage collection system work?**  "
      ],
      "metadata": {
        "id": "NzfN_dgEmUDJ"
      }
    },
    {
      "cell_type": "code",
      "source": [
        "# Uses reference counting and a cyclic garbage collector to reclaim unused memory."
      ],
      "metadata": {
        "id": "ig0mzarqmWOK"
      },
      "execution_count": null,
      "outputs": []
    },
    {
      "cell_type": "markdown",
      "source": [
        "16. **What is the purpose of the `else` block in exception handling?**  "
      ],
      "metadata": {
        "id": "yefb5NcEmWjB"
      }
    },
    {
      "cell_type": "code",
      "source": [
        "# Executes code only if no exception is raised in the try block."
      ],
      "metadata": {
        "id": "8_cdFteXmYnh"
      },
      "execution_count": null,
      "outputs": []
    },
    {
      "cell_type": "markdown",
      "source": [
        "17. **What are the common logging levels in Python?**  "
      ],
      "metadata": {
        "id": "Yl2nFM_WmY3p"
      }
    },
    {
      "cell_type": "code",
      "source": [
        "# DEBUG: Detailed information for debugging.\n",
        "# INFO: General information about program flow.\n",
        "# WARNING: Indicates potential problems.\n",
        "# ERROR: Errors that don’t stop the program.\n",
        "# CRITICAL: Serious errors requiring immediate attention."
      ],
      "metadata": {
        "id": "GEY9NVzrmRrI"
      },
      "execution_count": null,
      "outputs": []
    },
    {
      "cell_type": "markdown",
      "source": [
        "18. **What is the difference between `os.fork()` and multiprocessing in Python?**  "
      ],
      "metadata": {
        "id": "jqH9Z9ITmbNZ"
      }
    },
    {
      "cell_type": "code",
      "source": [
        "# os.fork(): Creates a new child process (Unix-based systems only).\n",
        "# multiprocessing: Cross-platform library for process-based parallelism."
      ],
      "metadata": {
        "id": "ayJxyMnJmB2_"
      },
      "execution_count": null,
      "outputs": []
    },
    {
      "cell_type": "markdown",
      "source": [
        "19. **What is the importance of closing a file in Python?**  "
      ],
      "metadata": {
        "id": "IwYKpVTsmd3R"
      }
    },
    {
      "cell_type": "code",
      "source": [
        "# Prevents resource leaks.\n",
        "# Ensures data is written to the file properly."
      ],
      "metadata": {
        "id": "3zq4CmRnmB0P"
      },
      "execution_count": null,
      "outputs": []
    },
    {
      "cell_type": "markdown",
      "source": [
        "20. **What is the difference between `file.read()` and `file.readline()` in Python?**  "
      ],
      "metadata": {
        "id": "lCpnweT7mgPh"
      }
    },
    {
      "cell_type": "code",
      "source": [
        "# file.read(): Reads the entire file or a specified number of characters.\n",
        "# file.readline(): Reads a single line from the file."
      ],
      "metadata": {
        "id": "gS5b5Obsl2J1"
      },
      "execution_count": null,
      "outputs": []
    },
    {
      "cell_type": "markdown",
      "source": [
        "21. **What is the logging module in Python used for?**  "
      ],
      "metadata": {
        "id": "YCY-uOKJmjNK"
      }
    },
    {
      "cell_type": "code",
      "source": [
        "# Provides functions to log messages at various severity levels (DEBUG, INFO, etc.)."
      ],
      "metadata": {
        "id": "Cbt98e3JmipK"
      },
      "execution_count": null,
      "outputs": []
    },
    {
      "cell_type": "markdown",
      "source": [
        "22. **What is the `os` module in Python used for in file handling?**  "
      ],
      "metadata": {
        "id": "FxtKvggcmlwq"
      }
    },
    {
      "cell_type": "code",
      "source": [
        "# Provides functions to interact with the operating system (e.g., file paths, directories, file creation)."
      ],
      "metadata": {
        "id": "Z-pyKiuKmiiS"
      },
      "execution_count": null,
      "outputs": []
    },
    {
      "cell_type": "markdown",
      "source": [
        "23. **What are the challenges associated with memory management in Python?**  "
      ],
      "metadata": {
        "id": "HygIEeZTmpAT"
      }
    },
    {
      "cell_type": "code",
      "source": [
        "# Handling circular references.\n",
        "# Avoiding memory leaks in long-running programs.\n",
        "# Balancing performance and garbage collection."
      ],
      "metadata": {
        "id": "kjbKqaNLmoVK"
      },
      "execution_count": null,
      "outputs": []
    },
    {
      "cell_type": "markdown",
      "source": [
        "24. **How do you raise an exception manually in Python?**  "
      ],
      "metadata": {
        "id": "nLfuogiVmq69"
      }
    },
    {
      "cell_type": "code",
      "source": [
        "raise ValueError(\"Custom error message\")"
      ],
      "metadata": {
        "id": "bpsqTe0Hok8P"
      },
      "execution_count": null,
      "outputs": []
    },
    {
      "cell_type": "markdown",
      "source": [
        "25. **Why is it important to use multithreading in certain applications?**"
      ],
      "metadata": {
        "id": "ecCiOeVXmtED"
      }
    },
    {
      "cell_type": "code",
      "source": [
        "# Improves performance for I/O-bound tasks (e.g., file or network operations).\n",
        "# Utilizes multiple threads for parallelism."
      ],
      "metadata": {
        "id": "SyKMx_tmmoOq"
      },
      "execution_count": null,
      "outputs": []
    },
    {
      "cell_type": "markdown",
      "source": [
        "# Practical Questions"
      ],
      "metadata": {
        "id": "idcBcVi2jRl7"
      }
    },
    {
      "cell_type": "markdown",
      "source": [
        "1. **How can you open a file for writing in Python and write a string to it?**  "
      ],
      "metadata": {
        "id": "HnK757Fyj1OM"
      }
    },
    {
      "cell_type": "code",
      "source": [
        "with open(\"output.txt\", \"w\") as file:\n",
        "    file.write(\"Hello, World!\")"
      ],
      "metadata": {
        "id": "H3v71iC9jTG3"
      },
      "execution_count": null,
      "outputs": []
    },
    {
      "cell_type": "markdown",
      "source": [
        "2. **Write a Python program to read the contents of a file and print each line.**  "
      ],
      "metadata": {
        "id": "08xqqtMPpDAa"
      }
    },
    {
      "cell_type": "code",
      "source": [
        "with open(\"input.txt\", \"r\") as file:\n",
        "    for line in file:\n",
        "        print(line.strip())"
      ],
      "metadata": {
        "id": "0BWJ6t0Op-1R"
      },
      "execution_count": null,
      "outputs": []
    },
    {
      "cell_type": "markdown",
      "source": [
        "3. **How would you handle a case where the file doesn’t exist while trying to open it for reading?**  "
      ],
      "metadata": {
        "id": "KE7fbf_gpFrS"
      }
    },
    {
      "cell_type": "code",
      "source": [
        "try:\n",
        "    with open(\"nonexistent.txt\", \"r\") as file:\n",
        "        content = file.read()\n",
        "except FileNotFoundError:\n",
        "    print(\"File not found!\")"
      ],
      "metadata": {
        "id": "cyKhQi6WjT3h"
      },
      "execution_count": null,
      "outputs": []
    },
    {
      "cell_type": "markdown",
      "source": [
        "4. **Write a Python script that reads from one file and writes its content to another file.**  "
      ],
      "metadata": {
        "id": "XaCHRiahpHyz"
      }
    },
    {
      "cell_type": "code",
      "source": [
        "with open(\"input.txt\", \"r\") as infile, open(\"output.txt\", \"w\") as outfile:\n",
        "    outfile.write(infile.read())"
      ],
      "metadata": {
        "id": "3Mts1GqnpJtj"
      },
      "execution_count": null,
      "outputs": []
    },
    {
      "cell_type": "markdown",
      "source": [
        "5. **How would you catch and handle a division by zero error in Python?**  "
      ],
      "metadata": {
        "id": "lsFpnjCRpJ7L"
      }
    },
    {
      "cell_type": "code",
      "source": [
        "try:\n",
        "    result = 10 / 0\n",
        "except ZeroDivisionError:\n",
        "    print(\"Cannot divide by zero!\")"
      ],
      "metadata": {
        "id": "SJZHIeLApLsD"
      },
      "execution_count": null,
      "outputs": []
    },
    {
      "cell_type": "markdown",
      "source": [
        "6. **Write a Python program that logs an error message to a log file when a division by zero exception occurs.**  "
      ],
      "metadata": {
        "id": "pHAYaqQgpMDT"
      }
    },
    {
      "cell_type": "code",
      "source": [
        "import logging\n",
        "logging.basicConfig(filename=\"errors.log\", level=logging.ERROR)\n",
        "\n",
        "try:\n",
        "    result = 10 / 0\n",
        "except ZeroDivisionError:\n",
        "    logging.error(\"Division by zero occurred!\")"
      ],
      "metadata": {
        "id": "j0ETNUjCpOAD"
      },
      "execution_count": null,
      "outputs": []
    },
    {
      "cell_type": "markdown",
      "source": [
        "7. **How do you log information at different levels (INFO, ERROR, WARNING) in Python using the logging module?**  "
      ],
      "metadata": {
        "id": "WQzeHzOQpOPj"
      }
    },
    {
      "cell_type": "code",
      "source": [
        "import logging\n",
        "logging.basicConfig(level=logging.INFO)\n",
        "\n",
        "logging.info(\"This is an INFO message.\")\n",
        "logging.warning(\"This is a WARNING.\")\n",
        "logging.error(\"This is an ERROR.\")"
      ],
      "metadata": {
        "id": "hJs2SldRpRXs"
      },
      "execution_count": null,
      "outputs": []
    },
    {
      "cell_type": "markdown",
      "source": [
        "8. **Write a program to handle a file opening error using exception handling.**  "
      ],
      "metadata": {
        "id": "JQ19-slDpRmb"
      }
    },
    {
      "cell_type": "code",
      "source": [
        "try:\n",
        "    with open(\"nonexistent.txt\", \"r\") as file:\n",
        "        content = file.read()\n",
        "except FileNotFoundError:\n",
        "    print(\"File could not be opened!\")"
      ],
      "metadata": {
        "id": "j5h-M_OMpTvD"
      },
      "execution_count": null,
      "outputs": []
    },
    {
      "cell_type": "markdown",
      "source": [
        "9. **How can you read a file line by line and store its content in a list in Python?**  "
      ],
      "metadata": {
        "id": "UwI9sV6ZpT5b"
      }
    },
    {
      "cell_type": "code",
      "source": [
        "with open(\"input.txt\", \"r\") as file:\n",
        "    lines = [line.strip() for line in file]\n",
        "print(lines)"
      ],
      "metadata": {
        "id": "TK4fjcJUpVnL"
      },
      "execution_count": null,
      "outputs": []
    },
    {
      "cell_type": "markdown",
      "source": [
        "10. **How can you append data to an existing file in Python?**  "
      ],
      "metadata": {
        "id": "KO3AVquupV1k"
      }
    },
    {
      "cell_type": "code",
      "source": [
        "with open(\"output.txt\", \"a\") as file:\n",
        "    file.write(\"Additional content.\\n\")"
      ],
      "metadata": {
        "id": "lc2HV_0LpXoE"
      },
      "execution_count": null,
      "outputs": []
    },
    {
      "cell_type": "markdown",
      "source": [
        "11. **Write a Python program that uses a try-except block to handle an error when attempting to access a dictionary key that doesn’t exist.**  "
      ],
      "metadata": {
        "id": "BeRrx-rTpX7s"
      }
    },
    {
      "cell_type": "code",
      "source": [
        "try:\n",
        "    data = {\"key\": \"value\"}\n",
        "    print(data[\"missing_key\"])\n",
        "except KeyError:\n",
        "    print(\"Key not found!\")"
      ],
      "metadata": {
        "id": "BDdZ9fMfpZ8c"
      },
      "execution_count": null,
      "outputs": []
    },
    {
      "cell_type": "markdown",
      "source": [
        "12. **Write a program that demonstrates using multiple except blocks to handle different types of exceptions.**  "
      ],
      "metadata": {
        "id": "UXFqOAITpaUE"
      }
    },
    {
      "cell_type": "code",
      "source": [
        "try:\n",
        "    result = 10 / 0\n",
        "except ZeroDivisionError:\n",
        "    print(\"Division by zero!\")\n",
        "except ValueError:\n",
        "    print(\"Value error occurred!\")"
      ],
      "metadata": {
        "id": "zLphdlfzpcdk"
      },
      "execution_count": null,
      "outputs": []
    },
    {
      "cell_type": "markdown",
      "source": [
        "13. **How would you check if a file exists before attempting to read it in Python?**  "
      ],
      "metadata": {
        "id": "e4LYroTJpdQc"
      }
    },
    {
      "cell_type": "code",
      "source": [
        "import os\n",
        "if os.path.exists(\"file.txt\"):\n",
        "    print(\"File exists!\")\n",
        "else:\n",
        "    print(\"File does not exist.\")"
      ],
      "metadata": {
        "id": "ere4ZW6rpfQd"
      },
      "execution_count": null,
      "outputs": []
    },
    {
      "cell_type": "markdown",
      "source": [
        "14. **Write a program that uses the logging module to log both informational and error messages.**  "
      ],
      "metadata": {
        "id": "q01ZBDx8pfgN"
      }
    },
    {
      "cell_type": "code",
      "source": [
        "import logging\n",
        "logging.basicConfig(filename=\"app.log\", level=logging.DEBUG)\n",
        "\n",
        "logging.info(\"This is an informational message.\")\n",
        "logging.error(\"This is an error message.\")"
      ],
      "metadata": {
        "id": "MrkWTd-7phQV"
      },
      "execution_count": null,
      "outputs": []
    },
    {
      "cell_type": "markdown",
      "source": [
        "15. **Write a Python program that prints the content of a file and handles the case when the file is empty.**  "
      ],
      "metadata": {
        "id": "4ECzsOA-phkF"
      }
    },
    {
      "cell_type": "code",
      "source": [
        "with open(\"input.txt\", \"r\") as file:\n",
        "    content = file.read()\n",
        "    if not content:\n",
        "        print(\"The file is empty!\")\n",
        "    else:\n",
        "        print(content)"
      ],
      "metadata": {
        "id": "tVV0npIGpjmd"
      },
      "execution_count": null,
      "outputs": []
    },
    {
      "cell_type": "markdown",
      "source": [
        "16. **Demonstrate how to use memory profiling to check the memory usage of a small program.**  "
      ],
      "metadata": {
        "id": "-DWYfqWhpjyu"
      }
    },
    {
      "cell_type": "code",
      "source": [
        "from memory_profiler import profile\n",
        "\n",
        "@profile\n",
        "def example():\n",
        "    data = [i for i in range(100000)]\n",
        "    return sum(data)\n",
        "\n",
        "example()"
      ],
      "metadata": {
        "id": "bLlNIUvaplUd"
      },
      "execution_count": null,
      "outputs": []
    },
    {
      "cell_type": "markdown",
      "source": [
        "17. **Write a Python program to create and write a list of numbers to a file, one number per line.**  "
      ],
      "metadata": {
        "id": "9ZMjncXCplkN"
      }
    },
    {
      "cell_type": "code",
      "source": [
        "with open(\"numbers.txt\", \"w\") as file:\n",
        "    for num in range(1, 11):\n",
        "        file.write(f\"{num}\\n\")"
      ],
      "metadata": {
        "id": "NRZThsZ6pnEm"
      },
      "execution_count": null,
      "outputs": []
    },
    {
      "cell_type": "markdown",
      "source": [
        "18. **How would you implement a basic logging setup that logs to a file with rotation after 1MB?**  "
      ],
      "metadata": {
        "id": "KokgYTv2pnXN"
      }
    },
    {
      "cell_type": "code",
      "source": [
        "from logging.handlers import RotatingFileHandler\n",
        "import logging\n",
        "\n",
        "handler = RotatingFileHandler(\"app.log\", maxBytes=1_000_000, backupCount=3)\n",
        "logging.basicConfig(handlers=[handler], level=logging.INFO)\n",
        "\n",
        "logging.info(\"This is a log message.\")"
      ],
      "metadata": {
        "id": "au1L9n8GppLN"
      },
      "execution_count": null,
      "outputs": []
    },
    {
      "cell_type": "markdown",
      "source": [
        "19. **Write a program that handles both `IndexError` and `KeyError` using a try-except block.**  "
      ],
      "metadata": {
        "id": "eSQeQK2jppbm"
      }
    },
    {
      "cell_type": "code",
      "source": [
        "try:\n",
        "    lst = [1, 2, 3]\n",
        "    print(lst[5])\n",
        "    data = {\"key\": \"value\"}\n",
        "    print(data[\"missing_key\"])\n",
        "except (IndexError, KeyError) as e:\n",
        "    print(f\"Error occurred: {e}\")"
      ],
      "metadata": {
        "id": "2x-SL2QvprKe"
      },
      "execution_count": null,
      "outputs": []
    },
    {
      "cell_type": "markdown",
      "source": [
        "20. **How would you open a file and read its contents using a context manager in Python?**  "
      ],
      "metadata": {
        "id": "swF7Lc9jprzO"
      }
    },
    {
      "cell_type": "code",
      "source": [
        "with open(\"input.txt\", \"r\") as file:\n",
        "    content = file.read()\n",
        "print(content)"
      ],
      "metadata": {
        "id": "tejVMZ1aptmm"
      },
      "execution_count": null,
      "outputs": []
    },
    {
      "cell_type": "markdown",
      "source": [
        "21. **Write a Python program that reads a file and prints the number of occurrences of a specific word.**  "
      ],
      "metadata": {
        "id": "Bdr4ZNQ7pt0O"
      }
    },
    {
      "cell_type": "code",
      "source": [
        "word_to_count = \"example\"\n",
        "with open(\"input.txt\", \"r\") as file:\n",
        "    content = file.read()\n",
        "print(content.lower().count(word_to_count))"
      ],
      "metadata": {
        "id": "4k0dx-QUpvRW"
      },
      "execution_count": null,
      "outputs": []
    },
    {
      "cell_type": "markdown",
      "source": [
        "22. **How can you check if a file is empty before attempting to read its contents?**  "
      ],
      "metadata": {
        "id": "-gPa9HFapxak"
      }
    },
    {
      "cell_type": "code",
      "source": [
        "import os\n",
        "if os.path.exists(\"file.txt\") and os.path.getsize(\"file.txt\") > 0:\n",
        "    print(\"File is not empty!\")\n",
        "else:\n",
        "    print(\"File is empty or does not exist.\")"
      ],
      "metadata": {
        "id": "wk3Y-ywQpzI-"
      },
      "execution_count": null,
      "outputs": []
    },
    {
      "cell_type": "markdown",
      "source": [
        "23. **Write a Python program that writes to a log file when an error occurs during file handling.**  "
      ],
      "metadata": {
        "id": "PQNkuXqqpziH"
      }
    },
    {
      "cell_type": "code",
      "source": [
        "import logging\n",
        "logging.basicConfig(filename=\"file_errors.log\", level=logging.ERROR)\n",
        "\n",
        "try:\n",
        "    with open(\"nonexistent.txt\", \"r\") as file:\n",
        "        content = file.read()\n",
        "except FileNotFoundError:\n",
        "    logging.error(\"File not found!\")"
      ],
      "metadata": {
        "id": "E9oUcHScp0Nn"
      },
      "execution_count": null,
      "outputs": []
    },
    {
      "cell_type": "code",
      "source": [],
      "metadata": {
        "id": "I7J3zKhfqrr8"
      },
      "execution_count": null,
      "outputs": []
    }
  ]
}